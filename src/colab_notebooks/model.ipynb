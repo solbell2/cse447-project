{
  "nbformat": 4,
  "nbformat_minor": 0,
  "metadata": {
    "colab": {
      "provenance": []
    },
    "kernelspec": {
      "name": "python3",
      "display_name": "Python 3"
    },
    "language_info": {
      "name": "python"
    }
  },
  "cells": [
    {
      "cell_type": "markdown",
      "source": [
        "import needed libraries"
      ],
      "metadata": {
        "id": "0p3akXDBXhaN"
      }
    },
    {
      "cell_type": "code",
      "execution_count": null,
      "metadata": {
        "id": "cREWuvVJW7xQ"
      },
      "outputs": [],
      "source": [
        "import tensorflow as tf\n",
        "from tensorflow.keras.models import Sequential\n",
        "from tensorflow.keras.layers import Embedding, LSTM, Dense\n",
        "import numpy as np"
      ]
    },
    {
      "cell_type": "markdown",
      "source": [
        "model setup (128 LSTM units, can adjust)"
      ],
      "metadata": {
        "id": "h5jpZoaMXjNs"
      }
    },
    {
      "cell_type": "code",
      "source": [
        "# model = Sequential()\n",
        "# model.add(Embedding())\n",
        "# model.add(LSTM(128))\n",
        "# model.add(Dense(total_words_in_vocab, activation='softmax'))\n",
        "# model.compile(loss='categorical_crossentropy', optimizer='adam', metrics=['accuracy'])"
      ],
      "metadata": {
        "id": "Qhuc7LALXAC8"
      },
      "execution_count": null,
      "outputs": []
    },
    {
      "cell_type": "markdown",
      "source": [
        "training model"
      ],
      "metadata": {
        "id": "qIF31ngqXqZA"
      }
    },
    {
      "cell_type": "code",
      "source": [
        "# model.fit(X, y, epochs=100)"
      ],
      "metadata": {
        "id": "0WWXdtwYXd5a"
      },
      "execution_count": null,
      "outputs": []
    },
    {
      "cell_type": "markdown",
      "source": [
        "getting predictions (probabilities) from model"
      ],
      "metadata": {
        "id": "spBUodZyX5bS"
      }
    },
    {
      "cell_type": "code",
      "source": [
        "# predicted_probs = model.predict(token_list)\n",
        "# we can use np.argmax to find the words with highest probabilities"
      ],
      "metadata": {
        "id": "iRg1zv0jXsrr"
      },
      "execution_count": null,
      "outputs": []
    },
    {
      "cell_type": "markdown",
      "source": [
        "sources:\n",
        "\n",
        "https://www.geeksforgeeks.org/next-word-prediction-with-deep-learning-in-nlp/\n",
        "https://medium.com/@ilaslanduzgun/next-word-prediction-using-lstm-with-tensorflow-e2a8f63b613c"
      ],
      "metadata": {
        "id": "smqa8ofjYnS0"
      }
    }
  ]
}